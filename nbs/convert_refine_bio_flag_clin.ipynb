{
 "cells": [
  {
   "cell_type": "code",
   "execution_count": null,
   "id": "c0777bb5-a0f1-488d-b49e-4ca9a92a650e",
   "metadata": {},
   "outputs": [],
   "source": []
  },
  {
   "cell_type": "code",
   "execution_count": null,
   "id": "ba8f7c11-1055-42a3-961a-687a9865f97a",
   "metadata": {},
   "outputs": [],
   "source": [
    "import json, io, os, sys\n",
    "import typing as tp\n",
    "import polars as pl\n",
    "import pyarrow as pa\n",
    "import pyarrow.parquet as pq\n",
    "import pyarrow.csv as pacsv\n",
    "from pathlib import Path\n",
    "import json\n",
    "from tqdm import tqdm\n"
   ]
  },
  {
   "cell_type": "code",
   "execution_count": null,
   "id": "a60e5b01-4340-4aa2-bff3-2195e06ce8d6",
   "metadata": {},
   "outputs": [],
   "source": [
    "import pandas as pd"
   ]
  },
  {
   "cell_type": "markdown",
   "id": "17d3c212-71b5-4ef2-8e68-f48616be86b7",
   "metadata": {},
   "source": [
    "## helper funcs"
   ]
  },
  {
   "cell_type": "code",
   "execution_count": null,
   "id": "6225b064-66b4-44e3-91a1-c2ff276f1e3b",
   "metadata": {},
   "outputs": [],
   "source": [
    "def polars_schema_to_json(df: pl.DataFrame, out: Path) -> None:\n",
    "    \"\"\"\n",
    "    Serialize a Polars DataFrame schema to JSON as {col: dtype_name}.\n",
    "    dtype_name ∈ {\"Utf8\",\"String\",\"Int64\",\"Float64\",\"Boolean\",...}\n",
    "    \"\"\"\n",
    "    schema = {name: str(dtype) for name, dtype in df.schema.items()}\n",
    "    out.write_text(json.dumps(schema, indent=2))\n",
    "def json_schema_to_polars_dtypes(json_path: Path) -> dict[str, pl.DataType]:\n",
    "    \"\"\"\n",
    "    Read {col: dtype_name} and map to Polars dtypes.\n",
    "    Unknown names default to Utf8 (conservative).\n",
    "    \"\"\"\n",
    "    name_to_pl = {\n",
    "        \"Utf8\": pl.Utf8, \"String\": pl.Utf8,\n",
    "        \"Int64\": pl.Int64, \"Float64\": pl.Float64, \"Boolean\": pl.Boolean,\n",
    "        \"Int32\": pl.Int32, \"Float32\": pl.Float32, \"Date\": pl.Date,\n",
    "        \"Datetime\": pl.Datetime, \"Time\": pl.Time, \"Categorical\": pl.Categorical,\n",
    "    }\n",
    "    schema = json.loads(json_path.read_text())\n",
    "    return pl.Schema({c: name_to_pl.get(t, pl.Utf8) for c, t in schema.items()})"
   ]
  },
  {
   "cell_type": "markdown",
   "id": "8fbda70b-af30-4bc3-b8bc-71e403a5262c",
   "metadata": {},
   "source": [
    "## paths"
   ]
  },
  {
   "cell_type": "code",
   "execution_count": null,
   "id": "93194613-740b-4eb8-a295-c05ac272f1be",
   "metadata": {},
   "outputs": [],
   "source": [
    "# ---- call these on your paths ----\n",
    "root = Path(\"/mnt/hdd/jesse_archive/stampformer_archive/refine_bio/HOMO_SAPIENS\")"
   ]
  },
  {
   "cell_type": "markdown",
   "id": "a0029bf5-eb66-414e-ae42-e2881a19ec7e",
   "metadata": {},
   "source": [
    "we needed ~60 GB RAM toread the whole metadata tsv. "
   ]
  },
  {
   "cell_type": "code",
   "execution_count": null,
   "id": "ac655164-40dd-45d2-89cc-82ba4a76bc7f",
   "metadata": {},
   "outputs": [],
   "source": [
    "data_dir = Path('/mnt/hdd/jesse_archive/stampformer_archive/refine_bio/HOMO_SAPIENS')\n",
    "tsv_meta_path = data_dir / 'metadata_HOMO_SAPIENS.tsv'\n",
    "schema_path = data_dir / \"metadata_HOMO_SAPIENS_schema.json\"\n",
    "parquet_path = data_dir / \"metadata_HOMO_SAPIENS.parquet\"\n",
    "potential_clin_path = data_dir / 'potential_clin_data.csv'\n",
    "sep='\\t'"
   ]
  },
  {
   "cell_type": "code",
   "execution_count": null,
   "id": "8d260d9e-e3fe-4bb1-9170-b83ad634055e",
   "metadata": {},
   "outputs": [
    {
     "data": {
      "text/plain": [
       "PosixPath('/mnt/hdd/jesse_archive/stampformer_archive/refine_bio/HOMO_SAPIENS/metadata_HOMO_SAPIENS.parquet')"
      ]
     },
     "execution_count": null,
     "metadata": {},
     "output_type": "execute_result"
    }
   ],
   "source": [
    "parquet_path"
   ]
  },
  {
   "cell_type": "markdown",
   "id": "73462d3c-f536-4f15-a62d-b7ff7b7d1c2d",
   "metadata": {},
   "source": [
    "## examine the parquet"
   ]
  },
  {
   "cell_type": "code",
   "execution_count": null,
   "id": "c1f4a8d7-eb10-4ea0-84f8-5356139d18bb",
   "metadata": {},
   "outputs": [],
   "source": [
    "data = pl.read_parquet(parquet_path)"
   ]
  },
  {
   "cell_type": "code",
   "execution_count": null,
   "id": "0550078b-cad4-4605-a2ba-3f2ab732375d",
   "metadata": {},
   "outputs": [
    {
     "data": {
      "text/plain": [
       "['refinebio_accession_code',\n",
       " 'experiment_accession',\n",
       " 'refinebio_age',\n",
       " 'refinebio_cell_line']"
      ]
     },
     "execution_count": null,
     "metadata": {},
     "output_type": "execute_result"
    }
   ],
   "source": [
    "columns = pl.read_parquet_schema(str(parquet_path)).names()\n",
    "columns[:4]"
   ]
  },
  {
   "cell_type": "code",
   "execution_count": null,
   "id": "bb17a166-72f8-40a7-a579-ad6021d93de6",
   "metadata": {},
   "outputs": [],
   "source": [
    "\n",
    "# lazy scan (no full read)\n",
    "lf = pl.scan_parquet(str(parquet_path))\n",
    "\n",
    "# build one expression per column\n",
    "exprs = [\n",
    "    (pl.col(c)\n",
    "     .is_not_null()\n",
    "     .and_(pl.col(c).cast(pl.Utf8).str.strip_chars().ne(\"\")))\n",
    "     .sum()\n",
    "     .alias(c)\n",
    "    for c in columns\n",
    "]\n",
    "\n",
    "# compute counts lazily\n",
    "counts = lf.select(exprs).collect().to_dict(as_series=False)\n",
    "\n",
    "# convert to a tidy DataFrame\n",
    "df_counts = pl.DataFrame({\n",
    "    \"colname\": list(counts.keys()),\n",
    "    \"num_non_empty\": [v[0] for v in counts.values()]\n",
    "})"
   ]
  },
  {
   "cell_type": "markdown",
   "id": "15946fe1-0d3f-47df-9ee1-25e1814082d2",
   "metadata": {},
   "source": [
    "### find probable response data"
   ]
  },
  {
   "cell_type": "code",
   "execution_count": null,
   "id": "22a8be23-67a1-4774-a275-f1fac96deb2b",
   "metadata": {},
   "outputs": [],
   "source": [
    "######## edit######\n",
    "import re, json\n",
    "from pathlib import Path\n",
    "import polars as pl\n",
    "from typing import Iterable, Dict, List, Tuple, Set\n",
    "\n",
    "# 1) Canonical response codes/labels (values)\n",
    "RESPONSE_VALUE_TOKENS: Set[str] = {\n",
    "    # atomic codes\n",
    "    \"PCR\",\"RD\",\"CR\",\"NR\",\"R\",\"SD\",\"PPR\",\"PNC\",\"PD\",\"CRU\",\"IR\",\"PRCR\",\"NON-CR\",\"VGPR\",\"NCR\",\"PR\",\"CRP\",\n",
    "    \"MLFS\",\"HI\",\"RCB\",\"CRI\",\"OJBR\",\"NOR\",\"NC\",\"ICCR\",\"ICPR\",\"ISD\",\"ICPD\",\"IUPD\",\"IUPR\",\"NONE\",\"S\",\"HR\",\"TF\",\"ED\",\n",
    "    # common long forms / keywords\n",
    "    \"PATHOLOGICAL COMPLETE REMISSION\",\"RESIDUAL DISEASE\",\"COMPLETE RESPONSE\",\"NONRESPONSE\",\"RESPONSE\",\"STABLE DISEASE\",\n",
    "    \"PATHOLOGICAL PARTIAL RESPONDERS\",\"NON-RESPONDERS\",\"PROGRESSIVE DISEASE\",\"UNCONFIRMED COMPLETED REMISSION\",\n",
    "    \"INCOMPLETE RESPONSE\",\"LONG-HER\",\"PARTIAL RESPONSE AND COMPLETE RESPONSE\",\"NON-COMPLETE REMISSION\",\n",
    "    \"VERY GOOD PARTIAL RESPONSE\",\"GOOD/COMPLETE PCR\",\"CR WITH INCOMPLETE HEMATOLOGIC OR PLATELET RECOVERY\",\n",
    "    \"MORPHOLOGIC LEUKEMIA-FREE STATE\",\"HEMATOLOGIC IMPROVEMENT\",\"RESIDUAL CANCER BURDEN\",\n",
    "    \"COMPLETE REMISSION WITH INCOMPLETE HEMATOLOGIC RECOVERY\",\"OBJECTIVE RESPONDERS\",\"NON-RESPONDERS\",\"NO CHANGE\",\n",
    "    \"CONFIRMED COMPLETE RESPONSE\",\"CONFIRMED PARTIAL RESPONSE\",\"CONFIRMED PROGRESSIVE DISEASE\",\n",
    "    \"UNCONFIRMED PROGRESSIVE DISEASE\",\"UNCONFIRMED PARTIAL RESPONSE\",\"NO RESPONSE\",\"SENSITIVE\",\n",
    "    \"HIGHLY RESISTANT\",\"TREATMENT FAILURE\",\"EARLY DEATH\",\"RESIDUAL\",\"SURVIVAL\",\"PROGRESSIVE\",\n",
    "    # generic binaries\n",
    "    \"YES\",\"NO\",\"Y\",\"N\",\"TRUE\",\"FALSE\",\"T\",\"F\",\"1\",\"0\"\n",
    "}\n",
    "\n",
    "# 2) Column-name terms (be specific; avoid single-letter codes here)\n",
    "NAME_TERMS: Set[str] = {\n",
    "    # core signals\n",
    "    \"RESPONSE\",\"RESPONDER\",\"RESPONDERS\",\"RESPONDING\",\"RESP\",\"RESPONSES\",\n",
    "    \"REMISSION\",\"COMPLETE_REMISSION\",\"NON_COMPLETE_REMISSION\",\"NON-COMPLETE_REMISSION\",\n",
    "    \"PROGRESSIVE_DISEASE\",\"STABLE_DISEASE\",\"PARTIAL_RESPONSE\",\"COMPLETE_RESPONSE\",\n",
    "    \"PROGRESSION\",\"BURDEN\",\"RESIDUAL\",\"PATHOLOGICAL\",\"PATH\",\"RCB\",\n",
    "    # frequent clinical abbreviations safe for NAMES\n",
    "    \"PCR\",\"CR\",\"PR\",\"SD\",\"PD\",\"VGPR\",\"CRU\",\"CRI\",\"CRP\",\"MLFS\",\"HI\",\"OJBR\",\n",
    "    \"ICCR\",\"ICPR\",\"ISD\",\"ICPD\",\"IUPD\",\"IUPR\",\"NR\",\"NONRESPONDER\",\"NONRESPONDERS\",\"NON_RESPONSE\",\n",
    "    \"SENSITIVE\",\"RESISTANT\",\"RESISTANCE\",\"TREATMENT_FAILURE\",\"FAILURE\",\"EARLY_DEATH\",\"ED\",\n",
    "    # words that often wrap the above\n",
    "    \"THERAPEUTIC\",\"THERAPY\",\"TREATMENT\",\"OUTCOME\",\"EFFICACY\",\"EFFECTIVENESS\",\n",
    "    \"RESP_CAT\",\"RESP_CLASS\",\"RESP_STATUS\",\"CLINICAL_BENEFIT\",\"OBJECTIVE_RESPONSE\",\n",
    "    \"RECIST\",\"BOR\"  # Best Overall Response\n",
    "}\n",
    "\n",
    "def _compile_name_regex(terms: Iterable[str]) -> re.Pattern:\n",
    "    \"\"\"\n",
    "    Build a robust column-name regex from NAME_TERMS.\n",
    "    - Normalizes underscores/hyphens vs words\n",
    "    - Word-boundaries to avoid overmatching substrings\n",
    "    \"\"\"\n",
    "    esc = []\n",
    "    for t in terms:\n",
    "        t = t.strip().upper().replace(\"-\", \"[\\\\-_]\").replace(\"_\", \"[\\\\-_]\")\n",
    "        esc.append(t)\n",
    "    # word-ish boundaries: (^|[^A-Z0-9]) ... (?=[^A-Z0-9]|$)\n",
    "    pattern = r\"(?i)(^|[^A-Z0-9])(\" + \"|\".join(esc) + r\")(?=[^A-Z0-9]|$)\"\n",
    "    return re.compile(pattern)\n",
    "\n",
    "NAME_RE = _compile_name_regex(NAME_TERMS)\n",
    "\n",
    "def normalize_token(x: str) -> str:\n",
    "    \"\"\"Uppercase + collapse spaces + keep A-Z0-9/+ and '-' (remove punctuation).\"\"\"\n",
    "    x = (x or \"\").strip().upper()\n",
    "    x = re.sub(r\"[^A-Z0-9/\\-\\s]+\", \" \", x)\n",
    "    x = re.sub(r\"\\s+\", \" \", x).strip()\n",
    "    return x\n",
    "\n",
    "def looks_like_response_values(tokens: Set[str], max_token_len: int = 40) -> Tuple[bool,float]:\n",
    "    \"\"\"\n",
    "    Decide if a column's value set looks like treatment response labels.\n",
    "    Returns (is_response_like, coverage_ratio) where coverage is fraction of tokens\n",
    "    within RESPONSE_VALUE_TOKENS.\n",
    "    \"\"\"\n",
    "    if not tokens: return (False, 0.0)\n",
    "    if all(t in {\"1\",\"0\"} for t in tokens): return (True, 1.0)\n",
    "    # length guard to avoid free-text\n",
    "    short = {t for t in tokens if len(t) <= max_token_len}\n",
    "    if not short: return (False, 0.0)\n",
    "    covered = {t for t in short if t in RESPONSE_VALUE_TOKENS}\n",
    "    return (len(covered) > 0 and len(covered) / len(short) >= 0.6, len(covered)/max(1,len(short)))\n",
    "\n",
    "def candidate_response_columns(all_columns: Iterable[str]) -> List[str]:\n",
    "    \"\"\"\n",
    "    Filter column names by NAME_RE (specific clinical response terms only).\n",
    "    \"\"\"\n",
    "    out = []\n",
    "    for c in all_columns:\n",
    "        if NAME_RE.search(c.upper()):\n",
    "            out.append(c)\n",
    "    return out"
   ]
  },
  {
   "cell_type": "code",
   "execution_count": null,
   "id": "4e6771af-db4f-4dc3-9029-fb75b83f8012",
   "metadata": {},
   "outputs": [
    {
     "data": {
      "text/plain": [
       "414"
      ]
     },
     "execution_count": null,
     "metadata": {},
     "output_type": "execute_result"
    }
   ],
   "source": [
    "candidates = candidate_response_columns(data.columns)\n",
    "len(candidates)"
   ]
  },
  {
   "cell_type": "markdown",
   "id": "242551e0-329b-455e-b14e-cb758bbb6622",
   "metadata": {},
   "source": [
    "### perform scan in mem"
   ]
  },
  {
   "cell_type": "code",
   "execution_count": null,
   "id": "da4ba6bc-eab7-474c-ba0d-026fffb8f270",
   "metadata": {},
   "outputs": [
    {
     "name": "stderr",
     "output_type": "stream",
     "text": [
      "100%|██████████████████████████████████████████████| 414/414 [00:00<00:00, 440.39it/s]\n"
     ]
    }
   ],
   "source": [
    "\n",
    "# --- profile candidate columns by values (eager) ---\n",
    "rows = []\n",
    "for c in tqdm(candidates):\n",
    "    s = data[c]\n",
    "    non_null = int(s.is_not_null().sum())\n",
    "    if non_null == 0:\n",
    "        rows.append({\"colname\": c, \"dtype\": str(s.dtype), \"n_non_null\": 0, \"n_unique\": 0,\n",
    "                     \"is_binary_numeric\": False, \"is_response_like\": False, \"coverage\": 0.0,\n",
    "                     \"tokens_sample\": []})\n",
    "        continue\n",
    "    # fast unique sample\n",
    "    u = s.cast(pl.Utf8, strict=False).drop_nulls().unique()\n",
    "    # beware: collect to Python only now\n",
    "    toks = {normalize_token(v) for v in u.to_list() if v is not None and normalize_token(v) != \"\"}\n",
    "    is_bin = toks.issubset({\"0\",\"1\"}) if toks else False\n",
    "    is_resp, cov = looks_like_response_values(toks)\n",
    "    rows.append({\n",
    "        \"colname\": c, \"dtype\": str(s.dtype), \"n_non_null\": non_null,\n",
    "        \"n_unique\": int(u.len()), \"is_binary_numeric\": is_bin,\n",
    "        \"is_response_like\": is_resp, \"coverage\": cov,\n",
    "        \"tokens_sample\": sorted(list(toks))[:20]\n",
    "    })\n",
    "\n",
    "resp_profile = pl.DataFrame(rows).sort([\"is_response_like\",\"coverage\",\"n_non_null\"], descending=[True,True,True])\n",
    "shortlist = resp_profile.filter((pl.col(\"is_response_like\")==True) | (pl.col(\"is_binary_numeric\")==True))\n",
    "\n",
    "# optional: persist\n",
    "(resp_profile.write_parquet(data_dir / \"response_column_profile.parquet\"))\n",
    "(shortlist.write_parquet(data_dir / \"response_column_shortlist.parquet\"))"
   ]
  },
  {
   "cell_type": "code",
   "execution_count": null,
   "id": "a1dc66cc-2fe8-400c-80d2-b48b65ba6203",
   "metadata": {},
   "outputs": [
    {
     "data": {
      "text/plain": [
       "279266"
      ]
     },
     "execution_count": null,
     "metadata": {},
     "output_type": "execute_result"
    }
   ],
   "source": [
    "resp_profile['n_non_null'].sum()"
   ]
  },
  {
   "cell_type": "code",
   "execution_count": null,
   "id": "9ea43e45-1be9-4bc7-9585-6a6ce462e1ea",
   "metadata": {},
   "outputs": [
    {
     "data": {
      "text/html": [
       "<div><style>\n",
       ".dataframe > thead > tr,\n",
       ".dataframe > tbody > tr {\n",
       "  text-align: right;\n",
       "  white-space: pre-wrap;\n",
       "}\n",
       "</style>\n",
       "<small>shape: (85, 8)</small><table border=\"1\" class=\"dataframe\"><thead><tr><th>colname</th><th>dtype</th><th>n_non_null</th><th>n_unique</th><th>is_binary_numeric</th><th>is_response_like</th><th>coverage</th><th>tokens_sample</th></tr><tr><td>str</td><td>str</td><td>i64</td><td>i64</td><td>bool</td><td>bool</td><td>f64</td><td>list[str]</td></tr></thead><tbody><tr><td>&quot;characteristics_ch1_pr ihc&quot;</td><td>&quot;Int64&quot;</td><td>941</td><td>2</td><td>true</td><td>true</td><td>1.0</td><td>[&quot;0&quot;, &quot;1&quot;]</td></tr><tr><td>&quot;characteristics_ch1_pcr&quot;</td><td>&quot;String&quot;</td><td>554</td><td>6</td><td>false</td><td>true</td><td>1.0</td><td>[&quot;0&quot;, &quot;1&quot;, … &quot;YES&quot;]</td></tr><tr><td>&quot;characteristics_ch1_pathologic…</td><td>&quot;String&quot;</td><td>486</td><td>2</td><td>false</td><td>true</td><td>1.0</td><td>[&quot;PCR&quot;, &quot;RD&quot;]</td></tr><tr><td>&quot;characteristics_ch1_birth outc…</td><td>&quot;Int64&quot;</td><td>323</td><td>2</td><td>true</td><td>true</td><td>1.0</td><td>[&quot;0&quot;, &quot;1&quot;]</td></tr><tr><td>&quot;characteristics_ch1_pasi75 res…</td><td>&quot;String&quot;</td><td>322</td><td>2</td><td>false</td><td>true</td><td>1.0</td><td>[&quot;NR&quot;, &quot;R&quot;]</td></tr><tr><td>&hellip;</td><td>&hellip;</td><td>&hellip;</td><td>&hellip;</td><td>&hellip;</td><td>&hellip;</td><td>&hellip;</td><td>&hellip;</td></tr><tr><td>&quot;characteristics_ch1_Pathologic…</td><td>&quot;Int64&quot;</td><td>23</td><td>3</td><td>false</td><td>true</td><td>0.666667</td><td>[&quot;0&quot;, &quot;1&quot;, &quot;2&quot;]</td></tr><tr><td>&quot;characteristics_ch1_dopamine-a…</td><td>&quot;String&quot;</td><td>20</td><td>3</td><td>false</td><td>true</td><td>0.666667</td><td>[&quot;-&quot;, &quot;NO&quot;, &quot;YES&quot;]</td></tr><tr><td>&quot;characteristics_ch1_objective …</td><td>&quot;String&quot;</td><td>11</td><td>3</td><td>false</td><td>true</td><td>0.666667</td><td>[&quot;0&quot;, &quot;1&quot;, &quot;NA&quot;]</td></tr><tr><td>&quot;characteristics_ch1_x-ray trea…</td><td>&quot;String&quot;</td><td>10</td><td>3</td><td>false</td><td>true</td><td>0.666667</td><td>[&quot;NO&quot;, &quot;YES&quot;, &quot;YES/NO&quot;]</td></tr><tr><td>&quot;characteristics_ch1_drug resis…</td><td>&quot;String&quot;</td><td>5</td><td>3</td><td>false</td><td>true</td><td>0.666667</td><td>[&quot;NO&quot;, &quot;T-DM1 RESISTANT CLONE&quot;, &quot;YES&quot;]</td></tr></tbody></table></div>"
      ],
      "text/plain": [
       "shape: (85, 8)\n",
       "┌─────────────┬────────┬────────────┬──────────┬─────────────┬─────────────┬──────────┬────────────┐\n",
       "│ colname     ┆ dtype  ┆ n_non_null ┆ n_unique ┆ is_binary_n ┆ is_response ┆ coverage ┆ tokens_sam │\n",
       "│ ---         ┆ ---    ┆ ---        ┆ ---      ┆ umeric      ┆ _like       ┆ ---      ┆ ple        │\n",
       "│ str         ┆ str    ┆ i64        ┆ i64      ┆ ---         ┆ ---         ┆ f64      ┆ ---        │\n",
       "│             ┆        ┆            ┆          ┆ bool        ┆ bool        ┆          ┆ list[str]  │\n",
       "╞═════════════╪════════╪════════════╪══════════╪═════════════╪═════════════╪══════════╪════════════╡\n",
       "│ characteris ┆ Int64  ┆ 941        ┆ 2        ┆ true        ┆ true        ┆ 1.0      ┆ [\"0\", \"1\"] │\n",
       "│ tics_ch1_pr ┆        ┆            ┆          ┆             ┆             ┆          ┆            │\n",
       "│ ihc         ┆        ┆            ┆          ┆             ┆             ┆          ┆            │\n",
       "│ characteris ┆ String ┆ 554        ┆ 6        ┆ false       ┆ true        ┆ 1.0      ┆ [\"0\", \"1\", │\n",
       "│ tics_ch1_pc ┆        ┆            ┆          ┆             ┆             ┆          ┆ … \"YES\"]   │\n",
       "│ r           ┆        ┆            ┆          ┆             ┆             ┆          ┆            │\n",
       "│ characteris ┆ String ┆ 486        ┆ 2        ┆ false       ┆ true        ┆ 1.0      ┆ [\"PCR\",    │\n",
       "│ tics_ch1_pa ┆        ┆            ┆          ┆             ┆             ┆          ┆ \"RD\"]      │\n",
       "│ thologic…   ┆        ┆            ┆          ┆             ┆             ┆          ┆            │\n",
       "│ characteris ┆ Int64  ┆ 323        ┆ 2        ┆ true        ┆ true        ┆ 1.0      ┆ [\"0\", \"1\"] │\n",
       "│ tics_ch1_bi ┆        ┆            ┆          ┆             ┆             ┆          ┆            │\n",
       "│ rth outc…   ┆        ┆            ┆          ┆             ┆             ┆          ┆            │\n",
       "│ characteris ┆ String ┆ 322        ┆ 2        ┆ false       ┆ true        ┆ 1.0      ┆ [\"NR\",     │\n",
       "│ tics_ch1_pa ┆        ┆            ┆          ┆             ┆             ┆          ┆ \"R\"]       │\n",
       "│ si75 res…   ┆        ┆            ┆          ┆             ┆             ┆          ┆            │\n",
       "│ …           ┆ …      ┆ …          ┆ …        ┆ …           ┆ …           ┆ …        ┆ …          │\n",
       "│ characteris ┆ Int64  ┆ 23         ┆ 3        ┆ false       ┆ true        ┆ 0.666667 ┆ [\"0\", \"1\", │\n",
       "│ tics_ch1_Pa ┆        ┆            ┆          ┆             ┆             ┆          ┆ \"2\"]       │\n",
       "│ thologic…   ┆        ┆            ┆          ┆             ┆             ┆          ┆            │\n",
       "│ characteris ┆ String ┆ 20         ┆ 3        ┆ false       ┆ true        ┆ 0.666667 ┆ [\"-\",      │\n",
       "│ tics_ch1_do ┆        ┆            ┆          ┆             ┆             ┆          ┆ \"NO\",      │\n",
       "│ pamine-a…   ┆        ┆            ┆          ┆             ┆             ┆          ┆ \"YES\"]     │\n",
       "│ characteris ┆ String ┆ 11         ┆ 3        ┆ false       ┆ true        ┆ 0.666667 ┆ [\"0\", \"1\", │\n",
       "│ tics_ch1_ob ┆        ┆            ┆          ┆             ┆             ┆          ┆ \"NA\"]      │\n",
       "│ jective …   ┆        ┆            ┆          ┆             ┆             ┆          ┆            │\n",
       "│ characteris ┆ String ┆ 10         ┆ 3        ┆ false       ┆ true        ┆ 0.666667 ┆ [\"NO\",     │\n",
       "│ tics_ch1_x- ┆        ┆            ┆          ┆             ┆             ┆          ┆ \"YES\",     │\n",
       "│ ray trea…   ┆        ┆            ┆          ┆             ┆             ┆          ┆ \"YES/NO\"]  │\n",
       "│ characteris ┆ String ┆ 5          ┆ 3        ┆ false       ┆ true        ┆ 0.666667 ┆ [\"NO\",     │\n",
       "│ tics_ch1_dr ┆        ┆            ┆          ┆             ┆             ┆          ┆ \"T-DM1     │\n",
       "│ ug resis…   ┆        ┆            ┆          ┆             ┆             ┆          ┆ RESISTANT  │\n",
       "│             ┆        ┆            ┆          ┆             ┆             ┆          ┆ CLONE\"…    │\n",
       "└─────────────┴────────┴────────────┴──────────┴─────────────┴─────────────┴──────────┴────────────┘"
      ]
     },
     "execution_count": null,
     "metadata": {},
     "output_type": "execute_result"
    }
   ],
   "source": [
    "shortlist"
   ]
  },
  {
   "cell_type": "code",
   "execution_count": null,
   "id": "ef87d5d3-a0fc-40a2-8cb3-3e87f9542006",
   "metadata": {},
   "outputs": [],
   "source": [
    "shortlist.to_pandas().to_csv(potential_clin_path.parent /'response_collumn_shortlist.csv', index = False)"
   ]
  },
  {
   "cell_type": "code",
   "execution_count": null,
   "id": "b1e04433-750a-4e29-83ae-552776428689",
   "metadata": {},
   "outputs": [],
   "source": []
  },
  {
   "cell_type": "markdown",
   "id": "11f9c43e-8f97-4609-a745-6490b0c96e11",
   "metadata": {},
   "source": [
    "## save subset "
   ]
  },
  {
   "cell_type": "markdown",
   "id": "25dbde20-c30c-4398-b2b2-8d4f9183ee39",
   "metadata": {},
   "source": [
    "1. subset of data with the short list collumns, and the gse and gsm\n",
    "2. valuable collumns\n",
    "3. all experimetns we already know\n",
    "4. the table of experiment info"
   ]
  },
  {
   "cell_type": "code",
   "execution_count": null,
   "id": "4be31a85-508c-47e2-abfe-c13e1ad4b7ba",
   "metadata": {},
   "outputs": [
    {
     "data": {
      "text/html": [
       "<div><style>\n",
       ".dataframe > thead > tr,\n",
       ".dataframe > tbody > tr {\n",
       "  text-align: right;\n",
       "  white-space: pre-wrap;\n",
       "}\n",
       "</style>\n",
       "<small>shape: (7_639, 662)</small><table border=\"1\" class=\"dataframe\"><thead><tr><th>refinebio_accession_code</th><th>experiment_accession</th><th>refinebio_age</th><th>refinebio_cell_line</th><th>refinebio_disease</th><th>refinebio_disease_stage</th><th>refinebio_organism</th><th>refinebio_platform</th><th>refinebio_processed</th><th>refinebio_processor_id</th><th>refinebio_processor_name</th><th>refinebio_processor_version</th><th>refinebio_race</th><th>refinebio_sex</th><th>refinebio_source_database</th><th>refinebio_specimen_part</th><th>refinebio_subject</th><th>refinebio_time</th><th>refinebio_title</th><th>refinebio_treatment</th><th>biomaterial_provider_ch1</th><th>channel_count</th><th>characteristics_ch1_4oht treatment</th><th>characteristics_ch1_8_week_disease control_1yes_0no</th><th>characteristics_ch1_AJCC Stage</th><th>characteristics_ch1_Age</th><th>characteristics_ch1_Age </th><th>characteristics_ch1_Age (years)</th><th>characteristics_ch1_Age of onset (years)</th><th>characteristics_ch1_Alcohol abuse (ratings scale</th><th>characteristics_ch1_All patients (1=included in survival analysis)</th><th>characteristics_ch1_AnnArbor.Stage </th><th>characteristics_ch1_B.Symptoms </th><th>characteristics_ch1_BCL6.Break </th><th>characteristics_ch1_BL.probability </th><th>characteristics_ch1_Baseline WBC</th><th>characteristics_ch1_Brain pH</th><th>&hellip;</th><th>contact_address</th><th>contact_city</th><th>contact_country</th><th>contact_department</th><th>contact_email</th><th>contact_fax</th><th>contact_institute</th><th>contact_laboratory</th><th>contact_name</th><th>contact_phone</th><th>contact_state</th><th>contact_web_link</th><th>contact_zip/postal_code</th><th>data_processing</th><th>data_row_count</th><th>description</th><th>extract_protocol_ch1</th><th>geo_accession</th><th>growth_protocol_ch1</th><th>hyb_protocol</th><th>label_ch1</th><th>label_protocol_ch1</th><th>last_update_date</th><th>molecule_ch1</th><th>organism_ch1</th><th>platform_id</th><th>relation</th><th>scan_protocol</th><th>series_id</th><th>source_name_ch1</th><th>status</th><th>submission_date</th><th>supplementary_file</th><th>taxid_ch1</th><th>title</th><th>treatment_protocol_ch1</th><th>type</th></tr><tr><td>str</td><td>str</td><td>f64</td><td>str</td><td>str</td><td>str</td><td>str</td><td>str</td><td>bool</td><td>i64</td><td>str</td><td>str</td><td>str</td><td>str</td><td>str</td><td>str</td><td>str</td><td>str</td><td>str</td><td>str</td><td>str</td><td>i64</td><td>str</td><td>i64</td><td>str</td><td>str</td><td>i64</td><td>i64</td><td>str</td><td>str</td><td>i64</td><td>str</td><td>str</td><td>str</td><td>f64</td><td>f64</td><td>f64</td><td>&hellip;</td><td>str</td><td>str</td><td>str</td><td>str</td><td>str</td><td>str</td><td>str</td><td>str</td><td>str</td><td>str</td><td>str</td><td>str</td><td>str</td><td>str</td><td>i64</td><td>str</td><td>str</td><td>str</td><td>str</td><td>str</td><td>str</td><td>str</td><td>str</td><td>str</td><td>str</td><td>str</td><td>str</td><td>str</td><td>str</td><td>str</td><td>str</td><td>str</td><td>str</td><td>str</td><td>str</td><td>str</td><td>str</td></tr></thead><tbody><tr><td>&quot;GSM1019241&quot;</td><td>&quot;GSE37745&quot;</td><td>80.0</td><td>null</td><td>null</td><td>null</td><td>&quot;HOMO_SAPIENS&quot;</td><td>&quot;Affymetrix Human Genome U133 P…</td><td>true</td><td>73</td><td>&quot;Affymetrix SCAN&quot;</td><td>&quot;v1.3.7&quot;</td><td>null</td><td>&quot;male&quot;</td><td>&quot;GEO&quot;</td><td>null</td><td>null</td><td>null</td><td>&quot;Patient 10, male, squamous&quot;</td><td>null</td><td>null</td><td>1</td><td>null</td><td>null</td><td>null</td><td>null</td><td>null</td><td>null</td><td>null</td><td>null</td><td>null</td><td>null</td><td>null</td><td>null</td><td>null</td><td>null</td><td>null</td><td>&hellip;</td><td>&quot;Rudbeck laboratory&quot;</td><td>&quot;Uppsala&quot;</td><td>&quot;Sweden&quot;</td><td>null</td><td>&quot;patrick.micke@igp.uu.se&quot;</td><td>null</td><td>&quot;Uppsala University&quot;</td><td>null</td><td>&quot;Patrick,,Micke&quot;</td><td>null</td><td>null</td><td>null</td><td>&quot;75185&quot;</td><td>&quot;Biocondoctor affy package stan…</td><td>54675</td><td>&quot;gene expression data from non …</td><td>&quot;Five to ten sections (10m) wer…</td><td>&quot;GSM1019241&quot;</td><td>&quot;no in vitro data&quot;</td><td>&quot;For each sample, 2g of total R…</td><td>&quot;biotin&quot;</td><td>&quot;For each sample, 2g of total R…</td><td>&quot;Nov 30 2012&quot;</td><td>&quot;total RNA&quot;</td><td>&quot;Homo sapiens&quot;</td><td>&quot;GPL570&quot;</td><td>null</td><td>&quot;The arrays were washed and sta…</td><td>&quot;GSE37745&quot;</td><td>&quot;cancer cells from patient 10&quot;</td><td>&quot;Public on Oct 12 2012&quot;</td><td>&quot;Oct 12 2012&quot;</td><td>&quot;ftp://ftp.ncbi.nlm.nih.gov/geo…</td><td>&quot;9606&quot;</td><td>&quot;Patient 10, male, squamous&quot;</td><td>&quot;no treatment&quot;</td><td>&quot;RNA&quot;</td></tr><tr><td>&quot;GSM1030127&quot;</td><td>&quot;GSE41998&quot;</td><td>40.0</td><td>null</td><td>null</td><td>null</td><td>&quot;HOMO_SAPIENS&quot;</td><td>&quot;Affymetrix Human Genome U133A …</td><td>true</td><td>99</td><td>&quot;Affymetrix SCAN&quot;</td><td>&quot;v1.4.7&quot;</td><td>null</td><td>&quot;female&quot;</td><td>&quot;GEO&quot;</td><td>null</td><td>null</td><td>null</td><td>&quot;Br Ca Pt sample #S1141087-1&quot;</td><td>null</td><td>null</td><td>1</td><td>null</td><td>null</td><td>null</td><td>null</td><td>null</td><td>null</td><td>null</td><td>null</td><td>null</td><td>null</td><td>null</td><td>null</td><td>null</td><td>null</td><td>null</td><td>&hellip;</td><td>&quot;Route 206 and Province Line Ro…</td><td>&quot;Princeton&quot;</td><td>&quot;USA&quot;</td><td>null</td><td>&quot;christine.horak@bms.com&quot;</td><td>null</td><td>&quot;Bristol-Myers Squibb&quot;</td><td>null</td><td>&quot;Christine,,Horak&quot;</td><td>null</td><td>&quot;NJ&quot;</td><td>null</td><td>&quot;08543&quot;</td><td>&quot;RMA background correction and …</td><td>22277</td><td>&quot;[&#x27;Gene expression data from pr…</td><td>&quot;Total RNA was extracted from R…</td><td>&quot;GSM1030127&quot;</td><td>null</td><td>&quot;Labeled cRNA targets with grea…</td><td>&quot;biotin&quot;</td><td>&quot;Biotinylated cRNA were prepare…</td><td>&quot;Jan 01 2013&quot;</td><td>&quot;total RNA&quot;</td><td>&quot;Homo sapiens&quot;</td><td>&quot;GPL571&quot;</td><td>null</td><td>&quot;Affymetrix GeneChip Scanner 30…</td><td>&quot;GSE41998&quot;</td><td>&quot;pre-treatment breast cancer tu…</td><td>&quot;Public on Jan 01 2013&quot;</td><td>&quot;Nov 02 2012&quot;</td><td>&quot;ftp://ftp.ncbi.nlm.nih.gov/geo…</td><td>&quot;9606&quot;</td><td>&quot;Br Ca Pt sample #S1141087-1&quot;</td><td>null</td><td>&quot;RNA&quot;</td></tr><tr><td>&quot;GSM1030241&quot;</td><td>&quot;GSE41998&quot;</td><td>33.0</td><td>null</td><td>null</td><td>null</td><td>&quot;HOMO_SAPIENS&quot;</td><td>&quot;Affymetrix Human Genome U133A …</td><td>true</td><td>99</td><td>&quot;Affymetrix SCAN&quot;</td><td>&quot;v1.4.7&quot;</td><td>null</td><td>&quot;female&quot;</td><td>&quot;GEO&quot;</td><td>null</td><td>null</td><td>null</td><td>&quot;Br Ca Pt sample #E4343391-4&quot;</td><td>null</td><td>null</td><td>1</td><td>null</td><td>null</td><td>null</td><td>null</td><td>null</td><td>null</td><td>null</td><td>null</td><td>null</td><td>null</td><td>null</td><td>null</td><td>null</td><td>null</td><td>null</td><td>&hellip;</td><td>&quot;Route 206 and Province Line Ro…</td><td>&quot;Princeton&quot;</td><td>&quot;USA&quot;</td><td>null</td><td>&quot;christine.horak@bms.com&quot;</td><td>null</td><td>&quot;Bristol-Myers Squibb&quot;</td><td>null</td><td>&quot;Christine,,Horak&quot;</td><td>null</td><td>&quot;NJ&quot;</td><td>null</td><td>&quot;08543&quot;</td><td>&quot;RMA background correction and …</td><td>22277</td><td>&quot;[&#x27;Gene expression data from pr…</td><td>&quot;Total RNA was extracted from R…</td><td>&quot;GSM1030241&quot;</td><td>null</td><td>&quot;Labeled cRNA targets with grea…</td><td>&quot;biotin&quot;</td><td>&quot;Biotinylated cRNA were prepare…</td><td>&quot;Jan 01 2013&quot;</td><td>&quot;total RNA&quot;</td><td>&quot;Homo sapiens&quot;</td><td>&quot;GPL571&quot;</td><td>null</td><td>&quot;Affymetrix GeneChip Scanner 30…</td><td>&quot;GSE41998&quot;</td><td>&quot;pre-treatment breast cancer tu…</td><td>&quot;Public on Jan 01 2013&quot;</td><td>&quot;Nov 02 2012&quot;</td><td>&quot;ftp://ftp.ncbi.nlm.nih.gov/geo…</td><td>&quot;9606&quot;</td><td>&quot;Br Ca Pt sample #E4343391-4&quot;</td><td>null</td><td>&quot;RNA&quot;</td></tr><tr><td>&quot;GSM1030329&quot;</td><td>&quot;GSE41998&quot;</td><td>41.0</td><td>null</td><td>null</td><td>null</td><td>&quot;HOMO_SAPIENS&quot;</td><td>&quot;Affymetrix Human Genome U133A …</td><td>true</td><td>99</td><td>&quot;Affymetrix SCAN&quot;</td><td>&quot;v1.4.7&quot;</td><td>null</td><td>&quot;female&quot;</td><td>&quot;GEO&quot;</td><td>null</td><td>null</td><td>null</td><td>&quot;Br Ca Pt sample #A7181967-1&quot;</td><td>null</td><td>null</td><td>1</td><td>null</td><td>null</td><td>null</td><td>null</td><td>null</td><td>null</td><td>null</td><td>null</td><td>null</td><td>null</td><td>null</td><td>null</td><td>null</td><td>null</td><td>null</td><td>&hellip;</td><td>&quot;Route 206 and Province Line Ro…</td><td>&quot;Princeton&quot;</td><td>&quot;USA&quot;</td><td>null</td><td>&quot;christine.horak@bms.com&quot;</td><td>null</td><td>&quot;Bristol-Myers Squibb&quot;</td><td>null</td><td>&quot;Christine,,Horak&quot;</td><td>null</td><td>&quot;NJ&quot;</td><td>null</td><td>&quot;08543&quot;</td><td>&quot;RMA background correction and …</td><td>22277</td><td>&quot;[&#x27;Gene expression data from pr…</td><td>&quot;Total RNA was extracted from R…</td><td>&quot;GSM1030329&quot;</td><td>null</td><td>&quot;Labeled cRNA targets with grea…</td><td>&quot;biotin&quot;</td><td>&quot;Biotinylated cRNA were prepare…</td><td>&quot;Jan 01 2013&quot;</td><td>&quot;total RNA&quot;</td><td>&quot;Homo sapiens&quot;</td><td>&quot;GPL571&quot;</td><td>null</td><td>&quot;Affymetrix GeneChip Scanner 30…</td><td>&quot;GSE41998&quot;</td><td>&quot;pre-treatment breast cancer tu…</td><td>&quot;Public on Jan 01 2013&quot;</td><td>&quot;Nov 02 2012&quot;</td><td>&quot;ftp://ftp.ncbi.nlm.nih.gov/geo…</td><td>&quot;9606&quot;</td><td>&quot;Br Ca Pt sample #A7181967-1&quot;</td><td>null</td><td>&quot;RNA&quot;</td></tr><tr><td>&quot;GSM1186521&quot;</td><td>&quot;GSE48905&quot;</td><td>null</td><td>null</td><td>null</td><td>null</td><td>&quot;HOMO_SAPIENS&quot;</td><td>&quot;Affymetrix Human Genome U133 P…</td><td>true</td><td>89</td><td>&quot;Affymetrix SCAN&quot;</td><td>&quot;v1.4.4&quot;</td><td>null</td><td>&quot;female&quot;</td><td>&quot;GEO&quot;</td><td>null</td><td>null</td><td>null</td><td>&quot;PP4_1_004A_U133p2_100ng.CEL&quot;</td><td>null</td><td>null</td><td>1</td><td>null</td><td>null</td><td>null</td><td>null</td><td>null</td><td>null</td><td>null</td><td>null</td><td>null</td><td>null</td><td>null</td><td>null</td><td>null</td><td>null</td><td>null</td><td>&hellip;</td><td>&quot;Venlighedsvej 1&quot;</td><td>&quot;Hrsholm&quot;</td><td>&quot;Denmark&quot;</td><td>&quot;lab&quot;</td><td>&quot;tj@medical-prognosis.com&quot;</td><td>null</td><td>&quot;MPI&quot;</td><td>&quot;lab&quot;</td><td>&quot;Thomas,,Jensen&quot;</td><td>&quot;22930837&quot;</td><td>null</td><td>null</td><td>&quot;2970&quot;</td><td>&quot;R&quot;</td><td>54675</td><td>&quot;PP4_1_004A_U133p2_100ng.CEL&quot;</td><td>&quot;Rneasy&quot;</td><td>&quot;GSM1186521&quot;</td><td>null</td><td>&quot;affy hyb wash stain&quot;</td><td>&quot;biotin&quot;</td><td>&quot;ambion messageamp&quot;</td><td>&quot;Jan 09 2014&quot;</td><td>&quot;total RNA&quot;</td><td>&quot;Homo sapiens&quot;</td><td>&quot;GPL570&quot;</td><td>null</td><td>&quot;affy standard&quot;</td><td>&quot;GSE48905&quot;</td><td>&quot;blood&quot;</td><td>&quot;Public on Jan 08 2014&quot;</td><td>&quot;Jul 16 2013&quot;</td><td>&quot;ftp://ftp.ncbi.nlm.nih.gov/geo…</td><td>&quot;9606&quot;</td><td>&quot;PP4_1_004A_U133p2_100ng.CEL&quot;</td><td>null</td><td>&quot;RNA&quot;</td></tr><tr><td>&hellip;</td><td>&hellip;</td><td>&hellip;</td><td>&hellip;</td><td>&hellip;</td><td>&hellip;</td><td>&hellip;</td><td>&hellip;</td><td>&hellip;</td><td>&hellip;</td><td>&hellip;</td><td>&hellip;</td><td>&hellip;</td><td>&hellip;</td><td>&hellip;</td><td>&hellip;</td><td>&hellip;</td><td>&hellip;</td><td>&hellip;</td><td>&hellip;</td><td>&hellip;</td><td>&hellip;</td><td>&hellip;</td><td>&hellip;</td><td>&hellip;</td><td>&hellip;</td><td>&hellip;</td><td>&hellip;</td><td>&hellip;</td><td>&hellip;</td><td>&hellip;</td><td>&hellip;</td><td>&hellip;</td><td>&hellip;</td><td>&hellip;</td><td>&hellip;</td><td>&hellip;</td><td>&hellip;</td><td>&hellip;</td><td>&hellip;</td><td>&hellip;</td><td>&hellip;</td><td>&hellip;</td><td>&hellip;</td><td>&hellip;</td><td>&hellip;</td><td>&hellip;</td><td>&hellip;</td><td>&hellip;</td><td>&hellip;</td><td>&hellip;</td><td>&hellip;</td><td>&hellip;</td><td>&hellip;</td><td>&hellip;</td><td>&hellip;</td><td>&hellip;</td><td>&hellip;</td><td>&hellip;</td><td>&hellip;</td><td>&hellip;</td><td>&hellip;</td><td>&hellip;</td><td>&hellip;</td><td>&hellip;</td><td>&hellip;</td><td>&hellip;</td><td>&hellip;</td><td>&hellip;</td><td>&hellip;</td><td>&hellip;</td><td>&hellip;</td><td>&hellip;</td><td>&hellip;</td><td>&hellip;</td></tr><tr><td>&quot;GSM540159&quot;</td><td>&quot;GSE21653&quot;</td><td>57.0</td><td>null</td><td>null</td><td>null</td><td>&quot;HOMO_SAPIENS&quot;</td><td>&quot;Affymetrix Human Genome U133 P…</td><td>true</td><td>73</td><td>&quot;Affymetrix SCAN&quot;</td><td>&quot;v1.3.7&quot;</td><td>null</td><td>null</td><td>&quot;GEO&quot;</td><td>&quot;breast cancer tumor&quot;</td><td>null</td><td>null</td><td>&quot;BC52&quot;</td><td>null</td><td>null</td><td>1</td><td>null</td><td>null</td><td>null</td><td>null</td><td>null</td><td>null</td><td>null</td><td>null</td><td>null</td><td>null</td><td>null</td><td>null</td><td>null</td><td>null</td><td>null</td><td>&hellip;</td><td>&quot;232 Bd Ste Marguerite&quot;</td><td>&quot;Marseille&quot;</td><td>&quot;France&quot;</td><td>&quot;Centre de cancrologie de Marse…</td><td>&quot;finettip@ipc.unicancer.fnclcc.…</td><td>null</td><td>&quot;Institut Paoli-Calmettes&quot;</td><td>&quot;Molecular Oncology&quot;</td><td>&quot;Pascal,,FINETTI&quot;</td><td>&quot;(33)+4 91 22 33 04&quot;</td><td>&quot;BdR&quot;</td><td>null</td><td>&quot;13009&quot;</td><td>&quot;RMA using a quantile normaliza…</td><td>54613</td><td>&quot;n/a&quot;</td><td>&quot;Guanidinium isothiocyanate and…</td><td>&quot;GSM540159&quot;</td><td>null</td><td>&quot;Affymetrix standard protocol&quot;</td><td>&quot;biotin&quot;</td><td>&quot;Affymetrix standard protocol&quot;</td><td>&quot;Aug 28 2018&quot;</td><td>&quot;total RNA&quot;</td><td>&quot;Homo sapiens&quot;</td><td>&quot;GPL570&quot;</td><td>&quot;[&#x27;Reanalyzed by: GSM781373&#x27;, &#x27;…</td><td>&quot;Affymetrix standard protocol&quot;</td><td>&quot;GSE21653&quot;</td><td>&quot;human breast cancer tumors&quot;</td><td>&quot;Public on May 05 2010&quot;</td><td>&quot;May 04 2010&quot;</td><td>&quot;ftp://ftp.ncbi.nlm.nih.gov/geo…</td><td>&quot;9606&quot;</td><td>&quot;BC52&quot;</td><td>null</td><td>&quot;RNA&quot;</td></tr><tr><td>&quot;GSM540272&quot;</td><td>&quot;GSE21653&quot;</td><td>53.0</td><td>null</td><td>null</td><td>null</td><td>&quot;HOMO_SAPIENS&quot;</td><td>&quot;Affymetrix Human Genome U133 P…</td><td>true</td><td>89</td><td>&quot;Affymetrix SCAN&quot;</td><td>&quot;v1.4.4&quot;</td><td>null</td><td>null</td><td>&quot;GEO&quot;</td><td>&quot;breast cancer tumor&quot;</td><td>null</td><td>null</td><td>&quot;BC165&quot;</td><td>null</td><td>null</td><td>1</td><td>null</td><td>null</td><td>null</td><td>null</td><td>null</td><td>null</td><td>null</td><td>null</td><td>null</td><td>null</td><td>null</td><td>null</td><td>null</td><td>null</td><td>null</td><td>&hellip;</td><td>&quot;232 Bd Ste Marguerite&quot;</td><td>&quot;Marseille&quot;</td><td>&quot;France&quot;</td><td>&quot;Centre de cancrologie de Marse…</td><td>&quot;finettip@ipc.unicancer.fnclcc.…</td><td>null</td><td>&quot;Institut Paoli-Calmettes&quot;</td><td>&quot;Molecular Oncology&quot;</td><td>&quot;Pascal,,FINETTI&quot;</td><td>&quot;(33)+4 91 22 33 04&quot;</td><td>&quot;BdR&quot;</td><td>null</td><td>&quot;13009&quot;</td><td>&quot;RMA using a quantile normaliza…</td><td>54613</td><td>&quot;n/a&quot;</td><td>&quot;Guanidinium isothiocyanate and…</td><td>&quot;GSM540272&quot;</td><td>null</td><td>&quot;Affymetrix standard protocol&quot;</td><td>&quot;biotin&quot;</td><td>&quot;Affymetrix standard protocol&quot;</td><td>&quot;Aug 28 2018&quot;</td><td>&quot;total RNA&quot;</td><td>&quot;Homo sapiens&quot;</td><td>&quot;GPL570&quot;</td><td>&quot;[&#x27;Reanalyzed by: GSM781486&#x27;, &#x27;…</td><td>&quot;Affymetrix standard protocol&quot;</td><td>&quot;GSE21653&quot;</td><td>&quot;human breast cancer tumors&quot;</td><td>&quot;Public on May 05 2010&quot;</td><td>&quot;May 04 2010&quot;</td><td>&quot;ftp://ftp.ncbi.nlm.nih.gov/geo…</td><td>&quot;9606&quot;</td><td>&quot;BC165&quot;</td><td>null</td><td>&quot;RNA&quot;</td></tr><tr><td>&quot;GSM615239&quot;</td><td>&quot;GSE25066&quot;</td><td>null</td><td>null</td><td>null</td><td>&quot;3&quot;</td><td>&quot;HOMO_SAPIENS&quot;</td><td>&quot;Affymetrix Human Genome U133A …</td><td>true</td><td>259</td><td>&quot;Affymetrix SCAN&quot;</td><td>&quot;v1.16.11-hotfix&quot;</td><td>null</td><td>null</td><td>&quot;GEO&quot;</td><td>null</td><td>null</td><td>null</td><td>&quot;M283&quot;</td><td>null</td><td>null</td><td>1</td><td>null</td><td>null</td><td>null</td><td>null</td><td>null</td><td>null</td><td>null</td><td>null</td><td>null</td><td>null</td><td>null</td><td>null</td><td>null</td><td>null</td><td>null</td><td>&hellip;</td><td>&quot;400 West Cummings Park, Suite …</td><td>&quot;Woburn&quot;</td><td>&quot;USA&quot;</td><td>null</td><td>&quot;christos@nuverabio.com&quot;</td><td>null</td><td>&quot;Nuvera Biosciences&quot;</td><td>null</td><td>&quot;Christos,,Hatzis&quot;</td><td>&quot;781-938-3830&quot;</td><td>&quot;MA&quot;</td><td>&quot;www.nuverabio.com&quot;</td><td>&quot;01801&quot;</td><td>&quot;Probe intensities were quantif…</td><td>22283</td><td>null</td><td>&quot;Total RNA was extracted from t…</td><td>&quot;GSM615239&quot;</td><td>null</td><td>&quot;Following fragmentation, 10 ug…</td><td>&quot;biotin&quot;</td><td>&quot;A single-round T7 amplificatio…</td><td>&quot;Oct 26 2011&quot;</td><td>&quot;total RNA&quot;</td><td>&quot;Homo sapiens&quot;</td><td>&quot;GPL96&quot;</td><td>null</td><td>&quot;GeneChips were scanned using t…</td><td>&quot;[&#x27;GSE25055&#x27;, &#x27;GSE25066&#x27;]&quot;</td><td>&quot;breast cancer, sample MDACC-M2…</td><td>&quot;Public on May 11 2011&quot;</td><td>&quot;Nov 01 2010&quot;</td><td>&quot;ftp://ftp.ncbi.nlm.nih.gov/geo…</td><td>&quot;9606&quot;</td><td>&quot;M283&quot;</td><td>&quot;Patients prospectively consent…</td><td>&quot;RNA&quot;</td></tr><tr><td>&quot;GSM615806&quot;</td><td>&quot;GSE25065&quot;</td><td>null</td><td>null</td><td>null</td><td>&quot;na&quot;</td><td>&quot;HOMO_SAPIENS&quot;</td><td>&quot;Affymetrix Human Genome U133A …</td><td>true</td><td>328</td><td>&quot;Affymetrix SCAN&quot;</td><td>&quot;v1.23.4-hotfix&quot;</td><td>null</td><td>null</td><td>&quot;GEO&quot;</td><td>&quot;breast cancer tumor&quot;</td><td>null</td><td>null</td><td>&quot;PERU56&quot;</td><td>null</td><td>null</td><td>1</td><td>null</td><td>null</td><td>null</td><td>null</td><td>null</td><td>null</td><td>null</td><td>null</td><td>null</td><td>null</td><td>null</td><td>null</td><td>null</td><td>null</td><td>null</td><td>&hellip;</td><td>&quot;400 West Cummings Park, Suite …</td><td>&quot;Woburn&quot;</td><td>&quot;USA&quot;</td><td>null</td><td>&quot;christos@nuverabio.com&quot;</td><td>null</td><td>&quot;Nuvera Biosciences&quot;</td><td>null</td><td>&quot;Christos,,Hatzis&quot;</td><td>&quot;781-938-3830&quot;</td><td>&quot;MA&quot;</td><td>&quot;www.nuverabio.com&quot;</td><td>&quot;01801&quot;</td><td>&quot;Probe intensities were quantif…</td><td>22283</td><td>null</td><td>&quot;Total RNA was extracted from t…</td><td>&quot;GSM615806&quot;</td><td>null</td><td>&quot;Following fragmentation, 10 ug…</td><td>&quot;biotin&quot;</td><td>&quot;A single-round T7 amplificatio…</td><td>&quot;Oct 26 2011&quot;</td><td>&quot;total RNA&quot;</td><td>&quot;Homo sapiens&quot;</td><td>&quot;GPL96&quot;</td><td>null</td><td>&quot;GeneChips were scanned using t…</td><td>&quot;[&#x27;GSE25065&#x27;, &#x27;GSE25066&#x27;]&quot;</td><td>&quot;breast cancer, sample LBJ/IN/G…</td><td>&quot;Public on May 11 2011&quot;</td><td>&quot;Nov 01 2010&quot;</td><td>&quot;ftp://ftp.ncbi.nlm.nih.gov/geo…</td><td>&quot;9606&quot;</td><td>&quot;PERU56&quot;</td><td>&quot;Patients prospectively consent…</td><td>&quot;RNA&quot;</td></tr><tr><td>&quot;GSM782523&quot;</td><td>&quot;GSE31519&quot;</td><td>null</td><td>null</td><td>null</td><td>null</td><td>&quot;HOMO_SAPIENS&quot;</td><td>&quot;Affymetrix Human Genome U133A …</td><td>true</td><td>103</td><td>&quot;Affymetrix SCAN&quot;</td><td>&quot;v1.4.8&quot;</td><td>null</td><td>null</td><td>&quot;GEO&quot;</td><td>&quot;triple-negative breast cancer&quot;</td><td>null</td><td>null</td><td>&quot;Triple-negative breast cancer_…</td><td>null</td><td>null</td><td>1</td><td>null</td><td>null</td><td>null</td><td>null</td><td>null</td><td>null</td><td>null</td><td>null</td><td>null</td><td>null</td><td>null</td><td>null</td><td>null</td><td>null</td><td>null</td><td>&hellip;</td><td>&quot;Theodor-Stern-Kai 7&quot;</td><td>&quot;Frankfurt&quot;</td><td>&quot;Germany&quot;</td><td>null</td><td>&quot;t.karn@em.uni-frankfurt.de&quot;</td><td>null</td><td>&quot;J.W.Goethe-University&quot;</td><td>null</td><td>&quot;Thomas,,Karn&quot;</td><td>null</td><td>null</td><td>null</td><td>&quot;60590&quot;</td><td>&quot;The data were analyzed with Mi…</td><td>22283</td><td>&quot;[&#x27;TNBC_001&#x27;, &#x27;Gene expression …</td><td>&quot;Qiagen RNeasy kit according to…</td><td>&quot;GSM782523&quot;</td><td>null</td><td>&quot;Following fragmentation, 15 g …</td><td>&quot;biotin&quot;</td><td>&quot;Starting from 5 g total RNA, l…</td><td>&quot;Sep 23 2011&quot;</td><td>&quot;total RNA&quot;</td><td>&quot;Homo sapiens&quot;</td><td>&quot;GPL96&quot;</td><td>null</td><td>&quot;GeneChips were scanned using t…</td><td>&quot;GSE31519&quot;</td><td>&quot;primary breast cancer tissue&quot;</td><td>&quot;Public on Sep 13 2011&quot;</td><td>&quot;Aug 18 2011&quot;</td><td>&quot;ftp://ftp.ncbi.nlm.nih.gov/geo…</td><td>&quot;9606&quot;</td><td>&quot;Triple-negative breast cancer_…</td><td>&quot;Samples were snap frozen and s…</td><td>&quot;RNA&quot;</td></tr></tbody></table></div>"
      ],
      "text/plain": [
       "shape: (7_639, 662)\n",
       "┌────────────┬────────────┬────────────┬────────────┬───┬───────────┬───────────┬───────────┬──────┐\n",
       "│ refinebio_ ┆ experiment ┆ refinebio_ ┆ refinebio_ ┆ … ┆ taxid_ch1 ┆ title     ┆ treatment ┆ type │\n",
       "│ accession_ ┆ _accession ┆ age        ┆ cell_line  ┆   ┆ ---       ┆ ---       ┆ _protocol ┆ ---  │\n",
       "│ code       ┆ ---        ┆ ---        ┆ ---        ┆   ┆ str       ┆ str       ┆ _ch1      ┆ str  │\n",
       "│ ---        ┆ str        ┆ f64        ┆ str        ┆   ┆           ┆           ┆ ---       ┆      │\n",
       "│ str        ┆            ┆            ┆            ┆   ┆           ┆           ┆ str       ┆      │\n",
       "╞════════════╪════════════╪════════════╪════════════╪═══╪═══════════╪═══════════╪═══════════╪══════╡\n",
       "│ GSM1019241 ┆ GSE37745   ┆ 80.0       ┆ null       ┆ … ┆ 9606      ┆ Patient   ┆ no        ┆ RNA  │\n",
       "│            ┆            ┆            ┆            ┆   ┆           ┆ 10, male, ┆ treatment ┆      │\n",
       "│            ┆            ┆            ┆            ┆   ┆           ┆ squamous  ┆           ┆      │\n",
       "│ GSM1030127 ┆ GSE41998   ┆ 40.0       ┆ null       ┆ … ┆ 9606      ┆ Br Ca Pt  ┆ null      ┆ RNA  │\n",
       "│            ┆            ┆            ┆            ┆   ┆           ┆ sample    ┆           ┆      │\n",
       "│            ┆            ┆            ┆            ┆   ┆           ┆ #S1141087 ┆           ┆      │\n",
       "│            ┆            ┆            ┆            ┆   ┆           ┆ -1        ┆           ┆      │\n",
       "│ GSM1030241 ┆ GSE41998   ┆ 33.0       ┆ null       ┆ … ┆ 9606      ┆ Br Ca Pt  ┆ null      ┆ RNA  │\n",
       "│            ┆            ┆            ┆            ┆   ┆           ┆ sample    ┆           ┆      │\n",
       "│            ┆            ┆            ┆            ┆   ┆           ┆ #E4343391 ┆           ┆      │\n",
       "│            ┆            ┆            ┆            ┆   ┆           ┆ -4        ┆           ┆      │\n",
       "│ GSM1030329 ┆ GSE41998   ┆ 41.0       ┆ null       ┆ … ┆ 9606      ┆ Br Ca Pt  ┆ null      ┆ RNA  │\n",
       "│            ┆            ┆            ┆            ┆   ┆           ┆ sample    ┆           ┆      │\n",
       "│            ┆            ┆            ┆            ┆   ┆           ┆ #A7181967 ┆           ┆      │\n",
       "│            ┆            ┆            ┆            ┆   ┆           ┆ -1        ┆           ┆      │\n",
       "│ GSM1186521 ┆ GSE48905   ┆ null       ┆ null       ┆ … ┆ 9606      ┆ PP4_1_004 ┆ null      ┆ RNA  │\n",
       "│            ┆            ┆            ┆            ┆   ┆           ┆ A_U133p2_ ┆           ┆      │\n",
       "│            ┆            ┆            ┆            ┆   ┆           ┆ 100ng.CEL ┆           ┆      │\n",
       "│ …          ┆ …          ┆ …          ┆ …          ┆ … ┆ …         ┆ …         ┆ …         ┆ …    │\n",
       "│ GSM540159  ┆ GSE21653   ┆ 57.0       ┆ null       ┆ … ┆ 9606      ┆ BC52      ┆ null      ┆ RNA  │\n",
       "│ GSM540272  ┆ GSE21653   ┆ 53.0       ┆ null       ┆ … ┆ 9606      ┆ BC165     ┆ null      ┆ RNA  │\n",
       "│ GSM615239  ┆ GSE25066   ┆ null       ┆ null       ┆ … ┆ 9606      ┆ M283      ┆ Patients  ┆ RNA  │\n",
       "│            ┆            ┆            ┆            ┆   ┆           ┆           ┆ prospecti ┆      │\n",
       "│            ┆            ┆            ┆            ┆   ┆           ┆           ┆ vely      ┆      │\n",
       "│            ┆            ┆            ┆            ┆   ┆           ┆           ┆ consent…  ┆      │\n",
       "│ GSM615806  ┆ GSE25065   ┆ null       ┆ null       ┆ … ┆ 9606      ┆ PERU56    ┆ Patients  ┆ RNA  │\n",
       "│            ┆            ┆            ┆            ┆   ┆           ┆           ┆ prospecti ┆      │\n",
       "│            ┆            ┆            ┆            ┆   ┆           ┆           ┆ vely      ┆      │\n",
       "│            ┆            ┆            ┆            ┆   ┆           ┆           ┆ consent…  ┆      │\n",
       "│ GSM782523  ┆ GSE31519   ┆ null       ┆ null       ┆ … ┆ 9606      ┆ Triple-ne ┆ Samples   ┆ RNA  │\n",
       "│            ┆            ┆            ┆            ┆   ┆           ┆ gative    ┆ were snap ┆      │\n",
       "│            ┆            ┆            ┆            ┆   ┆           ┆ breast    ┆ frozen    ┆      │\n",
       "│            ┆            ┆            ┆            ┆   ┆           ┆ cancer_…  ┆ and s…    ┆      │\n",
       "└────────────┴────────────┴────────────┴────────────┴───┴───────────┴───────────┴───────────┴──────┘"
      ]
     },
     "execution_count": null,
     "metadata": {},
     "output_type": "execute_result"
    }
   ],
   "source": [
    "# filter: keep rows where any of those cols is not null\n",
    "mask = pl.any_horizontal([pl.col(c).is_not_null() for c in shortlist['colname'] if c in data.columns])\n",
    "subset = data.filter(mask)\n",
    "subset = subset.select([c for c in subset.columns if not subset[c].is_null().all()])\n"
   ]
  },
  {
   "cell_type": "code",
   "execution_count": null,
   "id": "d94804aa-3097-4948-8c28-3ff41e375400",
   "metadata": {},
   "outputs": [
    {
     "data": {
      "text/plain": [
       "(7639, 7639)"
      ]
     },
     "execution_count": null,
     "metadata": {},
     "output_type": "execute_result"
    }
   ],
   "source": [
    "subset['experiment_accession'].str.starts_with('GSE').sum(), len(subset)"
   ]
  },
  {
   "cell_type": "code",
   "execution_count": null,
   "id": "11ebf26e-f4d8-4a76-a07c-6cf93850d7f6",
   "metadata": {},
   "outputs": [
    {
     "data": {
      "text/html": [
       "<div>\n",
       "<style scoped>\n",
       "    .dataframe tbody tr th:only-of-type {\n",
       "        vertical-align: middle;\n",
       "    }\n",
       "\n",
       "    .dataframe tbody tr th {\n",
       "        vertical-align: top;\n",
       "    }\n",
       "\n",
       "    .dataframe thead th {\n",
       "        text-align: right;\n",
       "    }\n",
       "</style>\n",
       "<table border=\"1\" class=\"dataframe\">\n",
       "  <thead>\n",
       "    <tr style=\"text-align: right;\">\n",
       "      <th></th>\n",
       "      <th>data_cancer_name</th>\n",
       "      <th>dataset_name</th>\n",
       "      <th>depth</th>\n",
       "      <th>drug_ids</th>\n",
       "      <th>drug_list</th>\n",
       "      <th>is_microarray</th>\n",
       "      <th>label</th>\n",
       "      <th>num_expressed</th>\n",
       "      <th>num_measured</th>\n",
       "      <th>primary_tissue</th>\n",
       "      <th>sample_id</th>\n",
       "      <th>tcga_subtype</th>\n",
       "      <th>drug_list_canonized</th>\n",
       "    </tr>\n",
       "  </thead>\n",
       "  <tbody>\n",
       "    <tr>\n",
       "      <th>0</th>\n",
       "      <td>Breast cancer</td>\n",
       "      <td>CTR_Microarray_1-I</td>\n",
       "      <td>0.0</td>\n",
       "      <td>[3874, 2882, 105, 6792, 2790, 0, 0, 0]</td>\n",
       "      <td>[\"Doxorubicin\", \"Paclitaxel\", \"Cyclophosphamid...</td>\n",
       "      <td>True</td>\n",
       "      <td>0</td>\n",
       "      <td>19068</td>\n",
       "      <td>19068</td>\n",
       "      <td>Breast</td>\n",
       "      <td>GSM1233067</td>\n",
       "      <td>BRCA</td>\n",
       "      <td>['DOXORUBICIN', 'PACLITAXEL', 'CYCLOPHOSPHAMID...</td>\n",
       "    </tr>\n",
       "    <tr>\n",
       "      <th>1</th>\n",
       "      <td>Breast cancer</td>\n",
       "      <td>CTR_Microarray_1-I</td>\n",
       "      <td>0.0</td>\n",
       "      <td>[3874, 2882, 105, 6792, 2790, 0, 0, 0]</td>\n",
       "      <td>[\"Doxorubicin\", \"Paclitaxel\", \"Cyclophosphamid...</td>\n",
       "      <td>True</td>\n",
       "      <td>0</td>\n",
       "      <td>19068</td>\n",
       "      <td>19068</td>\n",
       "      <td>Breast</td>\n",
       "      <td>GSM1233069</td>\n",
       "      <td>BRCA</td>\n",
       "      <td>['DOXORUBICIN', 'PACLITAXEL', 'CYCLOPHOSPHAMID...</td>\n",
       "    </tr>\n",
       "    <tr>\n",
       "      <th>2</th>\n",
       "      <td>Breast cancer</td>\n",
       "      <td>CTR_Microarray_1-I</td>\n",
       "      <td>0.0</td>\n",
       "      <td>[3874, 2882, 105, 6792, 2790, 0, 0, 0]</td>\n",
       "      <td>[\"Doxorubicin\", \"Paclitaxel\", \"Cyclophosphamid...</td>\n",
       "      <td>True</td>\n",
       "      <td>0</td>\n",
       "      <td>19068</td>\n",
       "      <td>19068</td>\n",
       "      <td>Breast</td>\n",
       "      <td>GSM1233072</td>\n",
       "      <td>BRCA</td>\n",
       "      <td>['DOXORUBICIN', 'PACLITAXEL', 'CYCLOPHOSPHAMID...</td>\n",
       "    </tr>\n",
       "    <tr>\n",
       "      <th>3</th>\n",
       "      <td>Breast cancer</td>\n",
       "      <td>CTR_Microarray_1-I</td>\n",
       "      <td>0.0</td>\n",
       "      <td>[3874, 2882, 105, 6792, 2790, 0, 0, 0]</td>\n",
       "      <td>[\"Doxorubicin\", \"Paclitaxel\", \"Cyclophosphamid...</td>\n",
       "      <td>True</td>\n",
       "      <td>1</td>\n",
       "      <td>19068</td>\n",
       "      <td>19068</td>\n",
       "      <td>Breast</td>\n",
       "      <td>GSM1233085</td>\n",
       "      <td>BRCA</td>\n",
       "      <td>['DOXORUBICIN', 'PACLITAXEL', 'CYCLOPHOSPHAMID...</td>\n",
       "    </tr>\n",
       "    <tr>\n",
       "      <th>4</th>\n",
       "      <td>Breast cancer</td>\n",
       "      <td>CTR_Microarray_1-I</td>\n",
       "      <td>0.0</td>\n",
       "      <td>[3874, 2882, 105, 6792, 2790, 0, 0, 0]</td>\n",
       "      <td>[\"Doxorubicin\", \"Paclitaxel\", \"Cyclophosphamid...</td>\n",
       "      <td>True</td>\n",
       "      <td>0</td>\n",
       "      <td>19068</td>\n",
       "      <td>19068</td>\n",
       "      <td>Breast</td>\n",
       "      <td>GSM1233086</td>\n",
       "      <td>BRCA</td>\n",
       "      <td>['DOXORUBICIN', 'PACLITAXEL', 'CYCLOPHOSPHAMID...</td>\n",
       "    </tr>\n",
       "    <tr>\n",
       "      <th>...</th>\n",
       "      <td>...</td>\n",
       "      <td>...</td>\n",
       "      <td>...</td>\n",
       "      <td>...</td>\n",
       "      <td>...</td>\n",
       "      <td>...</td>\n",
       "      <td>...</td>\n",
       "      <td>...</td>\n",
       "      <td>...</td>\n",
       "      <td>...</td>\n",
       "      <td>...</td>\n",
       "      <td>...</td>\n",
       "      <td>...</td>\n",
       "    </tr>\n",
       "    <tr>\n",
       "      <th>12375</th>\n",
       "      <td>NaN</td>\n",
       "      <td>ipsy2_genexp</td>\n",
       "      <td>0.0</td>\n",
       "      <td>[2882, 6863, 6801, 0, 0, 0, 0, 0]</td>\n",
       "      <td>[\"Paclitaxel\", \"Pertuzumab\", \"Trastuzumab\"]</td>\n",
       "      <td>True</td>\n",
       "      <td>1</td>\n",
       "      <td>7151</td>\n",
       "      <td>7151</td>\n",
       "      <td>NaN</td>\n",
       "      <td>GSM5859964</td>\n",
       "      <td>BRCA</td>\n",
       "      <td>['PACLITAXEL', 'PERTUZUMAB', 'TRASTUZUMAB']</td>\n",
       "    </tr>\n",
       "    <tr>\n",
       "      <th>12376</th>\n",
       "      <td>NaN</td>\n",
       "      <td>ipsy2_genexp</td>\n",
       "      <td>0.0</td>\n",
       "      <td>[2882, 3690, 0, 0, 0, 0, 0, 0]</td>\n",
       "      <td>[\"Paclitaxel\", \"Neratinib\"]</td>\n",
       "      <td>True</td>\n",
       "      <td>0</td>\n",
       "      <td>7151</td>\n",
       "      <td>7151</td>\n",
       "      <td>NaN</td>\n",
       "      <td>GSM5859965</td>\n",
       "      <td>BRCA</td>\n",
       "      <td>['PACLITAXEL', 'NERATINIB']</td>\n",
       "    </tr>\n",
       "    <tr>\n",
       "      <th>12377</th>\n",
       "      <td>NaN</td>\n",
       "      <td>ipsy2_genexp</td>\n",
       "      <td>0.0</td>\n",
       "      <td>[2882, 6804, 0, 0, 0, 0, 0, 0]</td>\n",
       "      <td>[\"Paclitaxel\", \"Pembrolizumab\"]</td>\n",
       "      <td>True</td>\n",
       "      <td>1</td>\n",
       "      <td>7151</td>\n",
       "      <td>7151</td>\n",
       "      <td>NaN</td>\n",
       "      <td>GSM5859966</td>\n",
       "      <td>BRCA</td>\n",
       "      <td>['PACLITAXEL', 'PEMBROLIZUMAB']</td>\n",
       "    </tr>\n",
       "    <tr>\n",
       "      <th>12378</th>\n",
       "      <td>NaN</td>\n",
       "      <td>ipsy2_genexp</td>\n",
       "      <td>0.0</td>\n",
       "      <td>[2882, 6878, 3838, 0, 0, 0, 0, 0]</td>\n",
       "      <td>[\"Paclitaxel\", \"ABT 888\", \"Carboplatin\"]</td>\n",
       "      <td>True</td>\n",
       "      <td>1</td>\n",
       "      <td>7151</td>\n",
       "      <td>7151</td>\n",
       "      <td>NaN</td>\n",
       "      <td>GSM5859967</td>\n",
       "      <td>BRCA</td>\n",
       "      <td>['PACLITAXEL', 'ABT-888', 'CARBOPLATIN']</td>\n",
       "    </tr>\n",
       "    <tr>\n",
       "      <th>12379</th>\n",
       "      <td>NaN</td>\n",
       "      <td>ipsy2_genexp</td>\n",
       "      <td>0.0</td>\n",
       "      <td>[2882, 3690, 0, 0, 0, 0, 0, 0]</td>\n",
       "      <td>[\"Paclitaxel\", \"Neratinib\"]</td>\n",
       "      <td>True</td>\n",
       "      <td>0</td>\n",
       "      <td>7148</td>\n",
       "      <td>7148</td>\n",
       "      <td>NaN</td>\n",
       "      <td>GSM5859968</td>\n",
       "      <td>BRCA</td>\n",
       "      <td>['PACLITAXEL', 'NERATINIB']</td>\n",
       "    </tr>\n",
       "  </tbody>\n",
       "</table>\n",
       "<p>12380 rows × 13 columns</p>\n",
       "</div>"
      ],
      "text/plain": [
       "      data_cancer_name        dataset_name  depth  \\\n",
       "0        Breast cancer  CTR_Microarray_1-I    0.0   \n",
       "1        Breast cancer  CTR_Microarray_1-I    0.0   \n",
       "2        Breast cancer  CTR_Microarray_1-I    0.0   \n",
       "3        Breast cancer  CTR_Microarray_1-I    0.0   \n",
       "4        Breast cancer  CTR_Microarray_1-I    0.0   \n",
       "...                ...                 ...    ...   \n",
       "12375              NaN        ipsy2_genexp    0.0   \n",
       "12376              NaN        ipsy2_genexp    0.0   \n",
       "12377              NaN        ipsy2_genexp    0.0   \n",
       "12378              NaN        ipsy2_genexp    0.0   \n",
       "12379              NaN        ipsy2_genexp    0.0   \n",
       "\n",
       "                                     drug_ids  \\\n",
       "0      [3874, 2882, 105, 6792, 2790, 0, 0, 0]   \n",
       "1      [3874, 2882, 105, 6792, 2790, 0, 0, 0]   \n",
       "2      [3874, 2882, 105, 6792, 2790, 0, 0, 0]   \n",
       "3      [3874, 2882, 105, 6792, 2790, 0, 0, 0]   \n",
       "4      [3874, 2882, 105, 6792, 2790, 0, 0, 0]   \n",
       "...                                       ...   \n",
       "12375       [2882, 6863, 6801, 0, 0, 0, 0, 0]   \n",
       "12376          [2882, 3690, 0, 0, 0, 0, 0, 0]   \n",
       "12377          [2882, 6804, 0, 0, 0, 0, 0, 0]   \n",
       "12378       [2882, 6878, 3838, 0, 0, 0, 0, 0]   \n",
       "12379          [2882, 3690, 0, 0, 0, 0, 0, 0]   \n",
       "\n",
       "                                               drug_list  is_microarray  \\\n",
       "0      [\"Doxorubicin\", \"Paclitaxel\", \"Cyclophosphamid...           True   \n",
       "1      [\"Doxorubicin\", \"Paclitaxel\", \"Cyclophosphamid...           True   \n",
       "2      [\"Doxorubicin\", \"Paclitaxel\", \"Cyclophosphamid...           True   \n",
       "3      [\"Doxorubicin\", \"Paclitaxel\", \"Cyclophosphamid...           True   \n",
       "4      [\"Doxorubicin\", \"Paclitaxel\", \"Cyclophosphamid...           True   \n",
       "...                                                  ...            ...   \n",
       "12375        [\"Paclitaxel\", \"Pertuzumab\", \"Trastuzumab\"]           True   \n",
       "12376                        [\"Paclitaxel\", \"Neratinib\"]           True   \n",
       "12377                    [\"Paclitaxel\", \"Pembrolizumab\"]           True   \n",
       "12378           [\"Paclitaxel\", \"ABT 888\", \"Carboplatin\"]           True   \n",
       "12379                        [\"Paclitaxel\", \"Neratinib\"]           True   \n",
       "\n",
       "       label  num_expressed  num_measured primary_tissue   sample_id  \\\n",
       "0          0          19068         19068         Breast  GSM1233067   \n",
       "1          0          19068         19068         Breast  GSM1233069   \n",
       "2          0          19068         19068         Breast  GSM1233072   \n",
       "3          1          19068         19068         Breast  GSM1233085   \n",
       "4          0          19068         19068         Breast  GSM1233086   \n",
       "...      ...            ...           ...            ...         ...   \n",
       "12375      1           7151          7151            NaN  GSM5859964   \n",
       "12376      0           7151          7151            NaN  GSM5859965   \n",
       "12377      1           7151          7151            NaN  GSM5859966   \n",
       "12378      1           7151          7151            NaN  GSM5859967   \n",
       "12379      0           7148          7148            NaN  GSM5859968   \n",
       "\n",
       "      tcga_subtype                                drug_list_canonized  \n",
       "0             BRCA  ['DOXORUBICIN', 'PACLITAXEL', 'CYCLOPHOSPHAMID...  \n",
       "1             BRCA  ['DOXORUBICIN', 'PACLITAXEL', 'CYCLOPHOSPHAMID...  \n",
       "2             BRCA  ['DOXORUBICIN', 'PACLITAXEL', 'CYCLOPHOSPHAMID...  \n",
       "3             BRCA  ['DOXORUBICIN', 'PACLITAXEL', 'CYCLOPHOSPHAMID...  \n",
       "4             BRCA  ['DOXORUBICIN', 'PACLITAXEL', 'CYCLOPHOSPHAMID...  \n",
       "...            ...                                                ...  \n",
       "12375         BRCA        ['PACLITAXEL', 'PERTUZUMAB', 'TRASTUZUMAB']  \n",
       "12376         BRCA                        ['PACLITAXEL', 'NERATINIB']  \n",
       "12377         BRCA                    ['PACLITAXEL', 'PEMBROLIZUMAB']  \n",
       "12378         BRCA           ['PACLITAXEL', 'ABT-888', 'CARBOPLATIN']  \n",
       "12379         BRCA                        ['PACLITAXEL', 'NERATINIB']  \n",
       "\n",
       "[12380 rows x 13 columns]"
      ]
     },
     "execution_count": null,
     "metadata": {},
     "output_type": "execute_result"
    }
   ],
   "source": [
    "from stampformer.utils.paths import PathList\n",
    "from stampformer.data.data_utils import load_zarr_group\n",
    "import zarr\n",
    "\n",
    "path_dict = PathList()\n",
    "\n",
    "\n",
    "clin_obs = pd.read_csv(path_dict.data.clin_data_dir /'clin_obs.csv') \n",
    "clin_obs"
   ]
  },
  {
   "cell_type": "code",
   "execution_count": null,
   "id": "9a3bf71f-ed33-4e74-8e4c-34955cefedb1",
   "metadata": {},
   "outputs": [
    {
     "data": {
      "text/plain": [
       "(0    GSM1019241\n",
       " 1    GSM1030127\n",
       " 2    GSM1030241\n",
       " 3    GSM1030329\n",
       " 4    GSM1186521\n",
       " 5    GSM1379817\n",
       " 6    GSM1379857\n",
       " 7    GSM1380021\n",
       " 8    GSM1619397\n",
       " 9    GSM1672485\n",
       " dtype: object,\n",
       " 0    GSM1233067\n",
       " 1    GSM1233069\n",
       " 2    GSM1233072\n",
       " 3    GSM1233085\n",
       " 4    GSM1233086\n",
       " 5    GSM1233098\n",
       " 6    GSM1233102\n",
       " 7    GSM1233103\n",
       " 8    GSM1233107\n",
       " 9    GSM1233108\n",
       " Name: sample_id, dtype: object)"
      ]
     },
     "execution_count": null,
     "metadata": {},
     "output_type": "execute_result"
    }
   ],
   "source": [
    "rb_ids = pd.Series(subset['refinebio_accession_code'])\n",
    "clin_ids = clin_obs['sample_id']\n",
    "rb_ids[:10],clin_ids[:10]"
   ]
  },
  {
   "cell_type": "code",
   "execution_count": null,
   "id": "b3a49dd9-cf75-49b6-9d1b-1445aba26b95",
   "metadata": {},
   "outputs": [],
   "source": [
    "cols = ['source_name_ch1','title','treatment_protocol_ch1','refinebio_title',\t'refinebio_treatment','refinebio_specimen_part']"
   ]
  },
  {
   "cell_type": "code",
   "execution_count": null,
   "id": "97988879-2d64-48f7-a955-17e57b95f41a",
   "metadata": {},
   "outputs": [],
   "source": [
    "refinebio_cell_line\trefinebio_disease\trefinebio_disease_stage\trefinebio_organism refinebio_age\trefinebio_cell_line refinebio_accession_code\texperiment_accession"
   ]
  },
  {
   "cell_type": "code",
   "execution_count": null,
   "id": "0ec60221-896a-4ff2-ab57-67b9a2fbef54",
   "metadata": {},
   "outputs": [],
   "source": [
    "subset.to_pandas().to_csv(potential_clin_path, index=False)"
   ]
  },
  {
   "cell_type": "code",
   "execution_count": null,
   "id": "d43cdec6-163e-43bf-8579-3eb4316a9931",
   "metadata": {},
   "outputs": [
    {
     "data": {
      "text/plain": [
       "PosixPath('/mnt/hdd/jesse_archive/stampformer_archive/refine_bio/HOMO_SAPIENS/potential_clin_data.csv')"
      ]
     },
     "execution_count": null,
     "metadata": {},
     "output_type": "execute_result"
    }
   ],
   "source": [
    "potential_clin_path"
   ]
  },
  {
   "cell_type": "code",
   "execution_count": null,
   "id": "5083957b-ade5-44f0-aba3-ddbd330f37b1",
   "metadata": {},
   "outputs": [
    {
     "data": {
      "text/plain": [
       "(7639, 5086)"
      ]
     },
     "execution_count": null,
     "metadata": {},
     "output_type": "execute_result"
    }
   ],
   "source": [
    "not_in_clin = 0\n",
    "for sample in rb_ids:\n",
    "    if sample not in clin_ids.values: not_in_clin += 1\n",
    "len(rb_ids),not_in_clin    "
   ]
  },
  {
   "cell_type": "markdown",
   "id": "b203bda7-ac30-48b1-8a11-71de897039b1",
   "metadata": {},
   "source": [
    "### save all gse data overlaping"
   ]
  },
  {
   "cell_type": "code",
   "execution_count": null,
   "id": "3e3e4c9c-08d5-408d-8947-c493b70abcf7",
   "metadata": {},
   "outputs": [
    {
     "data": {
      "text/plain": [
       "0         GSE24080\n",
       "1        GSE100666\n",
       "2        GSE100942\n",
       "3        GSE101472\n",
       "4        GSE101607\n",
       "           ...    \n",
       "53562     GSE93709\n",
       "53563     GSE94819\n",
       "53564     GSE97382\n",
       "53565     GSE99623\n",
       "53566     GSE99733\n",
       "Name: series, Length: 53567, dtype: object"
      ]
     },
     "execution_count": null,
     "metadata": {},
     "output_type": "execute_result"
    }
   ],
   "source": [
    "gse_data = pd.read_csv(path_dict.data.gse_data)\n",
    "gse_data['series']"
   ]
  },
  {
   "cell_type": "code",
   "execution_count": null,
   "id": "0520128d-0150-49fb-9fac-b01424b4270e",
   "metadata": {},
   "outputs": [],
   "source": [
    "accessions = subset['experiment_accession'].to_pandas()  # or .to_list() if memory allows\n",
    "\n",
    "# filter to keep only rows whose 'series' value is in subset['experiment_accession']\n",
    "gse_subset = gse_data[gse_data['series'].isin(accessions)]\n",
    "gse_subset.to_csv(data_dir /'experiment_data.csv', index=False)"
   ]
  },
  {
   "cell_type": "markdown",
   "id": "17f728a9-92db-4de4-91aa-1719eb1ff4d4",
   "metadata": {},
   "source": [
    "## read entire dataset"
   ]
  },
  {
   "cell_type": "code",
   "execution_count": null,
   "id": "5bc0b108-fcc5-463b-be2a-4bcce58f9215",
   "metadata": {},
   "outputs": [],
   "source": [
    "data = pl.read_csv(\n",
    "        source=str(path),\n",
    "        separator=sep,\n",
    "        has_header=True,                # fallback to string headers if missing\n",
    "        infer_schema_length=420000,       # load all as strings\n",
    "        #infer_schema=False,       # load all as strings\n",
    "        null_values=[\"\", \"NA\", \"NaN\", \"null\", \"None\",'5503934202250110435328'], \n",
    "        ignore_errors=False,\n",
    "        low_memory=True\n",
    "    )"
   ]
  },
  {
   "cell_type": "markdown",
   "id": "2c52cc3d-c843-481b-874a-33991acb6b76",
   "metadata": {},
   "source": [
    "we manually skirted this error:\n",
    "```\n",
    "ComputeError: could not parse 5503934202250110435328 as dtype i64 at column 'characteristics_ch1_barcode' (column number 1484) The current offset in the file is 5534434 bytes.\n",
    "\n",
    "You might want to try: - increasing infer_schema_length (e.g. infer_schema_length=10000), - specifying correct dtype with the schema_overrides argument - setting ignore_errors to True, - adding 5503934202250110435328 to the null_values list.\n",
    "```"
   ]
  },
  {
   "cell_type": "markdown",
   "id": "3c56b0f7-265d-47a2-8866-ada86317ca0b",
   "metadata": {},
   "source": [
    "## save the schema"
   ]
  },
  {
   "cell_type": "code",
   "execution_count": null,
   "id": "a0146cf8-9d83-4e09-9bf8-8dda87bcd142",
   "metadata": {},
   "outputs": [],
   "source": [
    "polars_schema_to_json(data, schema_path)"
   ]
  },
  {
   "cell_type": "markdown",
   "id": "026ac087-4372-4163-ac2a-6f772d96f6e2",
   "metadata": {},
   "source": [
    "## stream to parquet"
   ]
  },
  {
   "cell_type": "code",
   "execution_count": null,
   "id": "4d2457f3-0876-452b-978b-542336386665",
   "metadata": {},
   "outputs": [
    {
     "data": {
      "text/plain": [
       "[String, String, Float64, String]"
      ]
     },
     "execution_count": null,
     "metadata": {},
     "output_type": "execute_result"
    }
   ],
   "source": [
    "# try loading schema:\n",
    "saved_schema  =json_schema_to_polars_dtypes(schema_path)\n",
    "saved_schema.dtypes()[:4]"
   ]
  },
  {
   "cell_type": "code",
   "execution_count": null,
   "id": "083ab7ee-0b21-44f6-b09c-776e2bf44a71",
   "metadata": {},
   "outputs": [],
   "source": [
    "lazy_data = pl.scan_csv(\n",
    "    str(tsv_meta_path),\n",
    "    separator=sep,\n",
    "    has_header=True,\n",
    "    infer_schema=False,\n",
    "    schema=saved_schema,                  # ← reuse schema\n",
    "    null_values=[\"\", \"NA\", \"NaN\", \"null\", \"None\"],\n",
    "    ignore_errors=False,\n",
    "    low_memory=True,\n",
    ")"
   ]
  },
  {
   "cell_type": "code",
   "execution_count": null,
   "id": "5e605dc3-d6c0-4c59-83c1-325b87a756a9",
   "metadata": {},
   "outputs": [],
   "source": [
    "lazy_data.sink_parquet(\n",
    "    parquet_path,\n",
    "    compression=\"zstd\",\n",
    "    compression_level=4,\n",
    "    row_group_size=64_000,\n",
    "    #use_pyarrow=True,\n",
    ")"
   ]
  },
  {
   "cell_type": "code",
   "execution_count": null,
   "id": "b6d1312e-24c6-460d-a377-3cfc1bfb5094",
   "metadata": {},
   "outputs": [
    {
     "data": {
      "text/plain": [
       "PosixPath('/mnt/hdd/jesse_archive/stampformer_archive/refine_bio/HOMO_SAPIENS/metadata_HOMO_SAPIENS.parquet')"
      ]
     },
     "execution_count": null,
     "metadata": {},
     "output_type": "execute_result"
    }
   ],
   "source": [
    "parquet_out"
   ]
  }
 ],
 "metadata": {
  "kernelspec": {
   "display_name": "python3",
   "language": "python",
   "name": "python3"
  }
 },
 "nbformat": 4,
 "nbformat_minor": 5
}
