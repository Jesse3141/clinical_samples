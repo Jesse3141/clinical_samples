{
 "cells": [
  {
   "cell_type": "code",
   "execution_count": null,
   "id": "c0777bb5-a0f1-488d-b49e-4ca9a92a650e",
   "metadata": {},
   "outputs": [],
   "source": []
  },
  {
   "cell_type": "code",
   "execution_count": null,
   "id": "ba8f7c11-1055-42a3-961a-687a9865f97a",
   "metadata": {},
   "outputs": [],
   "source": [
    "import json, io, os, sys\n",
    "import typing as tp\n",
    "import polars as pl\n",
    "import pyarrow as pa\n",
    "import pyarrow.parquet as pq\n",
    "import pyarrow.csv as pacsv\n",
    "from pathlib import Path\n",
    "import json\n",
    "from tqdm import tqdm\n"
   ]
  },
  {
   "cell_type": "markdown",
   "id": "7ac41bfd",
   "metadata": {},
   "source": [
    "## paths"
   ]
  },
  {
   "cell_type": "code",
   "execution_count": null,
   "id": "ad17f05d",
   "metadata": {},
   "outputs": [],
   "source": [
    "# ---- call these on your paths ----\n",
    "root = Path(\"/mnt/hdd/jesse_archive/stampformer_archive/refine_bio/HOMO_SAPIENS\")"
   ]
  },
  {
   "cell_type": "markdown",
   "id": "3dfbaa6c",
   "metadata": {},
   "source": [
    "we needed ~60 GB RAM toread the whole metadata tsv. "
   ]
  },
  {
   "cell_type": "code",
   "execution_count": null,
   "id": "de05e386",
   "metadata": {},
   "outputs": [],
   "source": [
    "data_dir = Path('/mnt/hdd/jesse_archive/stampformer_archive/refine_bio/HOMO_SAPIENS')\n",
    "tsv_meta_path = data_dir / 'metadata_HOMO_SAPIENS.tsv'\n",
    "schema_path = data_dir / \"metadata_HOMO_SAPIENS_schema.json\"\n",
    "parquet_path = data_dir / \"metadata_HOMO_SAPIENS.parquet\"\n",
    "potential_clin_path = data_dir / 'potential_clin_data.csv'\n",
    "sep='\\t'"
   ]
  },
  {
   "cell_type": "markdown",
   "id": "73462d3c-f536-4f15-a62d-b7ff7b7d1c2d",
   "metadata": {},
   "source": [
    "## examine the parquet"
   ]
  }
 ],
 "metadata": {
  "kernelspec": {
   "display_name": "python3",
   "language": "python",
   "name": "python3"
  }
 },
 "nbformat": 4,
 "nbformat_minor": 5
}
